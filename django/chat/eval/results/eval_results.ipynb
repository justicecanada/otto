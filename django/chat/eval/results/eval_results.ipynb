{
 "cells": [
  {
   "cell_type": "code",
   "execution_count": 5,
   "metadata": {},
   "outputs": [],
   "source": [
    "import pandas as pd\n",
    "import matplotlib"
   ]
  },
  {
   "cell_type": "code",
   "execution_count": 6,
   "metadata": {},
   "outputs": [
    {
     "data": {
      "text/html": [
       "<div>\n",
       "<style scoped>\n",
       "    .dataframe tbody tr th:only-of-type {\n",
       "        vertical-align: middle;\n",
       "    }\n",
       "\n",
       "    .dataframe tbody tr th {\n",
       "        vertical-align: top;\n",
       "    }\n",
       "\n",
       "    .dataframe thead th {\n",
       "        text-align: right;\n",
       "    }\n",
       "</style>\n",
       "<table border=\"1\" class=\"dataframe\">\n",
       "  <thead>\n",
       "    <tr style=\"text-align: right;\">\n",
       "      <th></th>\n",
       "      <th>conversation</th>\n",
       "      <th>expected_response</th>\n",
       "      <th>returned_response</th>\n",
       "      <th>expected_sources</th>\n",
       "      <th>returned_sources</th>\n",
       "      <th>faithfulness</th>\n",
       "      <th>correctness</th>\n",
       "      <th>p_sources_found</th>\n",
       "      <th>mostly_correct</th>\n",
       "      <th>any_sources_found</th>\n",
       "    </tr>\n",
       "  </thead>\n",
       "  <tbody>\n",
       "    <tr>\n",
       "      <th>0</th>\n",
       "      <td>[{'user': 'How do I access quicklaw'}]</td>\n",
       "      <td>To access Quicklaw, you can go to the iFolio w...</td>\n",
       "      <td>data: \\ndata: \\ndata: \\ndata: &lt;div class=\"mess...</td>\n",
       "      <td>[When you are connected to the JUS network, si...</td>\n",
       "      <td>[&lt;headings&gt;Law Practitioner (LP) &gt; Note to rea...</td>\n",
       "      <td>0</td>\n",
       "      <td>0</td>\n",
       "      <td>0</td>\n",
       "      <td>False</td>\n",
       "      <td>False</td>\n",
       "    </tr>\n",
       "    <tr>\n",
       "      <th>1</th>\n",
       "      <td>[{'user': 'do I need a library card'}]</td>\n",
       "      <td>Yes, you need a library card to borrow print i...</td>\n",
       "      <td>data: \\ndata: \\ndata: \\ndata: &lt;div class=\"mess...</td>\n",
       "      <td>[You need a library card to borrow print items...</td>\n",
       "      <td>[&lt;headings&gt;External links&lt;/headings&gt;\\n| Typogr...</td>\n",
       "      <td>0</td>\n",
       "      <td>0</td>\n",
       "      <td>0</td>\n",
       "      <td>False</td>\n",
       "      <td>False</td>\n",
       "    </tr>\n",
       "    <tr>\n",
       "      <th>2</th>\n",
       "      <td>[{'user': 'what services does the library prov...</td>\n",
       "      <td>The library provides various services, includi...</td>\n",
       "      <td>data: \\ndata: \\ndata: \\ndata: &lt;div class=\"mess...</td>\n",
       "      <td>[Les employés du ministère de la Justice ont a...</td>\n",
       "      <td>[&lt;headings&gt;Program and Administrative Services...</td>\n",
       "      <td>1</td>\n",
       "      <td>0</td>\n",
       "      <td>0</td>\n",
       "      <td>False</td>\n",
       "      <td>False</td>\n",
       "    </tr>\n",
       "    <tr>\n",
       "      <th>3</th>\n",
       "      <td>[{'user': 'How many days of vacation leave I h...</td>\n",
       "      <td>After 18 years of service as an EC classificat...</td>\n",
       "      <td>data: \\ndata: \\ndata: \\ndata: &lt;div class=\"mess...</td>\n",
       "      <td>[# Economics and Social Science Services (EC),...</td>\n",
       "      <td>[&lt;headings&gt;Economics and Social Science Servic...</td>\n",
       "      <td>1</td>\n",
       "      <td>0</td>\n",
       "      <td>0</td>\n",
       "      <td>False</td>\n",
       "      <td>False</td>\n",
       "    </tr>\n",
       "    <tr>\n",
       "      <th>4</th>\n",
       "      <td>[{'user': 'what is the salary of EC-3 in 2022'}]</td>\n",
       "      <td>The salary of EC-03 in 2022 is $71,069 for Ste...</td>\n",
       "      <td>data: \\ndata: \\ndata: \\ndata: &lt;div class=\"mess...</td>\n",
       "      <td>[# Economics and Social Science Services (EC),...</td>\n",
       "      <td>[&lt;headings&gt;Economics and Social Science Servic...</td>\n",
       "      <td>1</td>\n",
       "      <td>0</td>\n",
       "      <td>0</td>\n",
       "      <td>False</td>\n",
       "      <td>False</td>\n",
       "    </tr>\n",
       "    <tr>\n",
       "      <th>5</th>\n",
       "      <td>[{'user': 'what are the reason I can take fami...</td>\n",
       "      <td>Some of the reasons you can take family leave ...</td>\n",
       "      <td>data: \\ndata: \\ndata: \\ndata: &lt;div class=\"mess...</td>\n",
       "      <td>[Here are some examples of situations which co...</td>\n",
       "      <td>[&lt;headings&gt;Program and Administrative Services...</td>\n",
       "      <td>1</td>\n",
       "      <td>0</td>\n",
       "      <td>0</td>\n",
       "      <td>False</td>\n",
       "      <td>False</td>\n",
       "    </tr>\n",
       "  </tbody>\n",
       "</table>\n",
       "</div>"
      ],
      "text/plain": [
       "                                        conversation  \\\n",
       "0             [{'user': 'How do I access quicklaw'}]   \n",
       "1             [{'user': 'do I need a library card'}]   \n",
       "2  [{'user': 'what services does the library prov...   \n",
       "3  [{'user': 'How many days of vacation leave I h...   \n",
       "4   [{'user': 'what is the salary of EC-3 in 2022'}]   \n",
       "5  [{'user': 'what are the reason I can take fami...   \n",
       "\n",
       "                                   expected_response  \\\n",
       "0  To access Quicklaw, you can go to the iFolio w...   \n",
       "1  Yes, you need a library card to borrow print i...   \n",
       "2  The library provides various services, includi...   \n",
       "3  After 18 years of service as an EC classificat...   \n",
       "4  The salary of EC-03 in 2022 is $71,069 for Ste...   \n",
       "5  Some of the reasons you can take family leave ...   \n",
       "\n",
       "                                   returned_response  \\\n",
       "0  data: \\ndata: \\ndata: \\ndata: <div class=\"mess...   \n",
       "1  data: \\ndata: \\ndata: \\ndata: <div class=\"mess...   \n",
       "2  data: \\ndata: \\ndata: \\ndata: <div class=\"mess...   \n",
       "3  data: \\ndata: \\ndata: \\ndata: <div class=\"mess...   \n",
       "4  data: \\ndata: \\ndata: \\ndata: <div class=\"mess...   \n",
       "5  data: \\ndata: \\ndata: \\ndata: <div class=\"mess...   \n",
       "\n",
       "                                    expected_sources  \\\n",
       "0  [When you are connected to the JUS network, si...   \n",
       "1  [You need a library card to borrow print items...   \n",
       "2  [Les employés du ministère de la Justice ont a...   \n",
       "3  [# Economics and Social Science Services (EC),...   \n",
       "4  [# Economics and Social Science Services (EC),...   \n",
       "5  [Here are some examples of situations which co...   \n",
       "\n",
       "                                    returned_sources  faithfulness  \\\n",
       "0  [<headings>Law Practitioner (LP) > Note to rea...             0   \n",
       "1  [<headings>External links</headings>\\n| Typogr...             0   \n",
       "2  [<headings>Program and Administrative Services...             1   \n",
       "3  [<headings>Economics and Social Science Servic...             1   \n",
       "4  [<headings>Economics and Social Science Servic...             1   \n",
       "5  [<headings>Program and Administrative Services...             1   \n",
       "\n",
       "   correctness  p_sources_found  mostly_correct  any_sources_found  \n",
       "0            0                0           False              False  \n",
       "1            0                0           False              False  \n",
       "2            0                0           False              False  \n",
       "3            0                0           False              False  \n",
       "4            0                0           False              False  \n",
       "5            0                0           False              False  "
      ]
     },
     "execution_count": 6,
     "metadata": {},
     "output_type": "execute_result"
    }
   ],
   "source": [
    "# Read JSON file to pandas dataframe\n",
    "df = pd.read_json('mini_library_qa.json')\n",
    "df"
   ]
  },
  {
   "cell_type": "code",
   "execution_count": 7,
   "metadata": {},
   "outputs": [
    {
     "data": {
      "text/plain": [
       "<Axes: xlabel='correctness'>"
      ]
     },
     "execution_count": 7,
     "metadata": {},
     "output_type": "execute_result"
    },
    {
     "data": {
      "image/png": "[encoded data removed]",
      "text/plain": [
       "<Figure size 640x480 with 1 Axes>"
      ]
     },
     "metadata": {},
     "output_type": "display_data"
    }
   ],
   "source": [
    "# Plot distribution of correctness\n",
    "df['correctness'].value_counts().sort_index().plot(kind='bar')"
   ]
  },
  {
   "cell_type": "code",
   "execution_count": 8,
   "metadata": {},
   "outputs": [
    {
     "data": {
      "text/plain": [
       "<Axes: xlabel='faithfulness'>"
      ]
     },
     "execution_count": 8,
     "metadata": {},
     "output_type": "execute_result"
    },
    {
     "data": {
      "image/png": "[encoded data removed]",
      "text/plain": [
       "<Figure size 640x480 with 1 Axes>"
      ]
     },
     "metadata": {},
     "output_type": "display_data"
    }
   ],
   "source": [
    "\n",
    "# Plot distribution of faithfulness\n",
    "df['faithfulness'].value_counts().sort_index().plot(kind='bar')"
   ]
  },
  {
   "cell_type": "code",
   "execution_count": 9,
   "metadata": {},
   "outputs": [
    {
     "data": {
      "text/plain": [
       "<Axes: ylabel='Frequency'>"
      ]
     },
     "execution_count": 9,
     "metadata": {},
     "output_type": "execute_result"
    },
    {
     "data": {
      "image/png": "[encoded data removed]",
      "text/plain": [
       "<Figure size 640x480 with 1 Axes>"
      ]
     },
     "metadata": {},
     "output_type": "display_data"
    }
   ],
   "source": [
    "\n",
    "# Plot distribution of p_sources_found\n",
    "df['p_sources_found'].plot.hist()"
   ]
  },
  {
   "cell_type": "code",
   "execution_count": null,
   "metadata": {},
   "outputs": [],
   "source": []
  }
 ],
 "metadata": {
  "kernelspec": {
   "display_name": "Python 3",
   "language": "python",
   "name": "python3"
  },
  "language_info": {
   "codemirror_mode": {
    "name": "ipython",
    "version": 3
   },
   "file_extension": ".py",
   "mimetype": "text/x-python",
   "name": "python",
   "nbconvert_exporter": "python",
   "pygments_lexer": "ipython3",
   "version": "3.11.9"
  }
 },
 "nbformat": 4,
 "nbformat_minor": 2
}
