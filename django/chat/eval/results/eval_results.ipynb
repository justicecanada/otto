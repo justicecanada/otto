{
 "cells": [
  {
   "cell_type": "code",
   "execution_count": 1,
   "metadata": {},
   "outputs": [],
   "source": [
    "import pandas as pd"
   ]
  },
  {
   "cell_type": "code",
   "execution_count": 2,
   "metadata": {},
   "outputs": [
    {
     "data": {
      "text/html": [
       "<div>\n",
       "<style scoped>\n",
       "    .dataframe tbody tr th:only-of-type {\n",
       "        vertical-align: middle;\n",
       "    }\n",
       "\n",
       "    .dataframe tbody tr th {\n",
       "        vertical-align: top;\n",
       "    }\n",
       "\n",
       "    .dataframe thead th {\n",
       "        text-align: right;\n",
       "    }\n",
       "</style>\n",
       "<table border=\"1\" class=\"dataframe\">\n",
       "  <thead>\n",
       "    <tr style=\"text-align: right;\">\n",
       "      <th></th>\n",
       "      <th>conversation</th>\n",
       "      <th>expected_response</th>\n",
       "      <th>returned_response</th>\n",
       "      <th>expected_sources</th>\n",
       "      <th>returned_sources</th>\n",
       "      <th>faithfulness</th>\n",
       "      <th>correctness</th>\n",
       "      <th>p_sources_found</th>\n",
       "      <th>mostly_correct</th>\n",
       "      <th>any_sources_found</th>\n",
       "    </tr>\n",
       "  </thead>\n",
       "  <tbody>\n",
       "    <tr>\n",
       "      <th>0</th>\n",
       "      <td>[{'user': 'Do the marks in Japanese characters...</td>\n",
       "      <td>While separate marks in Japanese characters do...</td>\n",
       "      <td>I found the following information:\\n\\n* \"In Ja...</td>\n",
       "      <td>[In Japanese [syllabaries](/wiki/Syllabary \"Sy...</td>\n",
       "      <td>[&lt;headings&gt;Glyphs, graphemes and characters&lt;/h...</td>\n",
       "      <td>1</td>\n",
       "      <td>1.00</td>\n",
       "      <td>1.0</td>\n",
       "      <td>True</td>\n",
       "      <td>1.0</td>\n",
       "    </tr>\n",
       "    <tr>\n",
       "      <th>1</th>\n",
       "      <td>[{'user': 'What is a Glyph'}]</td>\n",
       "      <td>A glyph is a particular graphical representati...</td>\n",
       "      <td>I found the following information:\\n\\n* \"A gly...</td>\n",
       "      <td>[A __glyph__ ([/ɡlɪf/](/wiki/Help:IPA/English ...</td>\n",
       "      <td>[[Jump to content](#bodyContent)From Wikipedia...</td>\n",
       "      <td>1</td>\n",
       "      <td>0.75</td>\n",
       "      <td>1.0</td>\n",
       "      <td>True</td>\n",
       "      <td>1.0</td>\n",
       "    </tr>\n",
       "    <tr>\n",
       "      <th>2</th>\n",
       "      <td>[{'user': 'When might a character be comprised...</td>\n",
       "      <td>A character is made of multiple glyphs in situ...</td>\n",
       "      <td>I found the following information:\\n\\n* \"Older...</td>\n",
       "      <td>[In most languages written in any variety of t...</td>\n",
       "      <td>[&lt;headings&gt;Glyphs, graphemes and characters&lt;/h...</td>\n",
       "      <td>1</td>\n",
       "      <td>1.00</td>\n",
       "      <td>1.0</td>\n",
       "      <td>True</td>\n",
       "      <td>1.0</td>\n",
       "    </tr>\n",
       "    <tr>\n",
       "      <th>3</th>\n",
       "      <td>[{'user': 'Why do birds suddenly appear every ...</td>\n",
       "      <td>I found the following information: I could not...</td>\n",
       "      <td>I found the following information:\\n\\n* I coul...</td>\n",
       "      <td>[]</td>\n",
       "      <td>[&lt;headings&gt;Glyphs, graphemes and characters&lt;/h...</td>\n",
       "      <td>1</td>\n",
       "      <td>1.00</td>\n",
       "      <td>NaN</td>\n",
       "      <td>True</td>\n",
       "      <td>NaN</td>\n",
       "    </tr>\n",
       "  </tbody>\n",
       "</table>\n",
       "</div>"
      ],
      "text/plain": [
       "                                        conversation  \\\n",
       "0  [{'user': 'Do the marks in Japanese characters...   \n",
       "1                      [{'user': 'What is a Glyph'}]   \n",
       "2  [{'user': 'When might a character be comprised...   \n",
       "3  [{'user': 'Why do birds suddenly appear every ...   \n",
       "\n",
       "                                   expected_response  \\\n",
       "0  While separate marks in Japanese characters do...   \n",
       "1  A glyph is a particular graphical representati...   \n",
       "2  A character is made of multiple glyphs in situ...   \n",
       "3  I found the following information: I could not...   \n",
       "\n",
       "                                   returned_response  \\\n",
       "0  I found the following information:\\n\\n* \"In Ja...   \n",
       "1  I found the following information:\\n\\n* \"A gly...   \n",
       "2  I found the following information:\\n\\n* \"Older...   \n",
       "3  I found the following information:\\n\\n* I coul...   \n",
       "\n",
       "                                    expected_sources  \\\n",
       "0  [In Japanese [syllabaries](/wiki/Syllabary \"Sy...   \n",
       "1  [A __glyph__ ([/ɡlɪf/](/wiki/Help:IPA/English ...   \n",
       "2  [In most languages written in any variety of t...   \n",
       "3                                                 []   \n",
       "\n",
       "                                    returned_sources  faithfulness  \\\n",
       "0  [<headings>Glyphs, graphemes and characters</h...             1   \n",
       "1  [[Jump to content](#bodyContent)From Wikipedia...             1   \n",
       "2  [<headings>Glyphs, graphemes and characters</h...             1   \n",
       "3  [<headings>Glyphs, graphemes and characters</h...             1   \n",
       "\n",
       "   correctness  p_sources_found  mostly_correct  any_sources_found  \n",
       "0         1.00              1.0            True                1.0  \n",
       "1         0.75              1.0            True                1.0  \n",
       "2         1.00              1.0            True                1.0  \n",
       "3         1.00              NaN            True                NaN  "
      ]
     },
     "execution_count": 2,
     "metadata": {},
     "output_type": "execute_result"
    }
   ],
   "source": [
    "# Read JSON file to pandas dataframe\n",
    "df = pd.read_json('glyph_qa.json')\n",
    "df"
   ]
  },
  {
   "cell_type": "code",
   "execution_count": 3,
   "metadata": {},
   "outputs": [
    {
     "data": {
      "text/plain": [
       "<Axes: xlabel='correctness'>"
      ]
     },
     "execution_count": 3,
     "metadata": {},
     "output_type": "execute_result"
    },
    {
     "data": {
      "image/png": "[encoded data removed]",
      "text/plain": [
       "<Figure size 640x480 with 1 Axes>"
      ]
     },
     "metadata": {},
     "output_type": "display_data"
    }
   ],
   "source": [
    "# Plot distribution of correctness\n",
    "df['correctness'].value_counts().sort_index().plot(kind='bar')"
   ]
  },
  {
   "cell_type": "code",
   "execution_count": 4,
   "metadata": {},
   "outputs": [
    {
     "data": {
      "text/plain": [
       "<Axes: xlabel='faithfulness'>"
      ]
     },
     "execution_count": 4,
     "metadata": {},
     "output_type": "execute_result"
    },
    {
     "data": {
      "image/png": "[encoded data removed]",
      "text/plain": [
       "<Figure size 640x480 with 1 Axes>"
      ]
     },
     "metadata": {},
     "output_type": "display_data"
    }
   ],
   "source": [
    "\n",
    "# Plot distribution of faithfulness\n",
    "df['faithfulness'].value_counts().sort_index().plot(kind='bar')"
   ]
  },
  {
   "cell_type": "code",
   "execution_count": 5,
   "metadata": {},
   "outputs": [
    {
     "data": {
      "text/plain": [
       "<Axes: ylabel='Frequency'>"
      ]
     },
     "execution_count": 5,
     "metadata": {},
     "output_type": "execute_result"
    },
    {
     "data": {
      "image/png": "[encoded data removed]",
      "text/plain": [
       "<Figure size 640x480 with 1 Axes>"
      ]
     },
     "metadata": {},
     "output_type": "display_data"
    }
   ],
   "source": [
    "\n",
    "# Plot distribution of p_sources_found\n",
    "df['p_sources_found'].plot.hist()"
   ]
  },
  {
   "cell_type": "code",
   "execution_count": null,
   "metadata": {},
   "outputs": [],
   "source": []
  }
 ],
 "metadata": {
  "kernelspec": {
   "display_name": "Python 3",
   "language": "python",
   "name": "python3"
  },
  "language_info": {
   "codemirror_mode": {
    "name": "ipython",
    "version": 3
   },
   "file_extension": ".py",
   "mimetype": "text/x-python",
   "name": "python",
   "nbconvert_exporter": "python",
   "pygments_lexer": "ipython3",
   "version": "3.11.9"
  }
 },
 "nbformat": 4,
 "nbformat_minor": 2
}
